{
 "cells": [
  {
   "cell_type": "markdown",
   "metadata": {},
   "source": [
    "# Multiple Conditions\n",
    "---\n",
    "\n",
    "By combining ```if``` and ```else``` we were able to create binary pathways. With another built-in condiitonal keyword, we can create _multiple_ pathways in our code.\n",
    "\n",
    "### ```elif``` statement\n",
    "\n",
    "```elif``` is a built-in keyword related to if statements.\n",
    "- ```elif``` can only exists if there is a related ```if``` statement above it\n",
    "- ```elif``` can have its own condition, and it will execute its code block if the Boolean condition is True\n",
    "- After the first if statement, you are allowed to have as many elif statements as you'd like\n",
    "- It is recommended that your elif's boolean condition is related to the condition that comes before it\n",
    "\n",
    "Examine the following format:\n",
    "```python\n",
    "\n",
    "    if boolean_condition1:\n",
    "        # code here\n",
    "\n",
    "    elif boolean_condition2:\n",
    "        # code here\n",
    "\n",
    "    elif boolean_condition3:\n",
    "        # code here\n",
    "\n",
    "    else:\n",
    "        # code here\n",
    "```\n",
    "\n",
    "__NOTE:__\n",
    "- if ```boolean_condition1``` is __True__, it will ignore the conditional statements below it\n",
    "- if ```boolean_condition1``` is __False__, it will check the 2nd condition\n",
    "- if both ```boolean_condition1``` and ```boolean_condition2``` is __False__, it will check the 3rd condition\n",
    "- if all the conditions evaluate to __False__, then the else's code block will execute"
   ]
  },
  {
   "cell_type": "code",
   "execution_count": 2,
   "metadata": {},
   "outputs": [
    {
     "name": "stdout",
     "output_type": "stream",
     "text": [
      "You can watch any movies with any rating with exception of:\n",
      "-- You cannot watch NC-17.\n",
      "-- You require parent/adult guaradian supervision to watch R rated movies.\n"
     ]
    }
   ],
   "source": [
    "# Example\n",
    "\n",
    "age = 14\n",
    "\n",
    "if age > 17:\n",
    "    print('You are allowed to watch any movies.')\n",
    "elif age >= 13:\n",
    "    print('You can watch any movies with any rating with exception of:')\n",
    "    print('-- You cannot watch NC-17.')\n",
    "    print('-- You require parent/adult guaradian supervision to watch R rated movies.')\n",
    "else:\n",
    "    print('You can watch G rated movies and you also need parental guidance for PG and PG-13 rated movies.')"
   ]
  }
 ],
 "metadata": {
  "kernelspec": {
   "display_name": "Python 3",
   "language": "python",
   "name": "python3"
  },
  "language_info": {
   "codemirror_mode": {
    "name": "ipython",
    "version": 3
   },
   "file_extension": ".py",
   "mimetype": "text/x-python",
   "name": "python",
   "nbconvert_exporter": "python",
   "pygments_lexer": "ipython3",
   "version": "3.8.2"
  }
 },
 "nbformat": 4,
 "nbformat_minor": 4
}
