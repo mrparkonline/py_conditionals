{
 "cells": [
  {
   "cell_type": "markdown",
   "metadata": {},
   "source": [
    "# Boolean Operators\n",
    "---\n",
    "\n",
    "In this lesson, we will be talking about built-in Python operators that will give us a Boolean result.\n",
    "\n",
    "__Operators__:\n",
    "- Comparison\n",
    "- Logical\n",
    "- Membership\n",
    "\n",
    "### Comparison Operators\n",
    "\n",
    "Comparison operators help us compare the left and the right operand in terms of magnitude. \n",
    "\n",
    "```\n",
    "    Symbols:\n",
    "    == Equal to\n",
    "    != Not Equal to\n",
    "    > Greater than\n",
    "    < Less than\n",
    "    >= Greater than or Equal to\n",
    "    <= Less than or Equal to\n",
    "```"
   ]
  },
  {
   "cell_type": "code",
   "execution_count": 6,
   "metadata": {},
   "outputs": [
    {
     "name": "stdout",
     "output_type": "stream",
     "text": [
      "num1 == num2: False\n",
      "num1 != num2: True\n",
      "num1 > num2: True\n",
      "num1 < num2: False\n",
      "num1 >= num2: True\n",
      "num1 <= num2: False\n"
     ]
    }
   ],
   "source": [
    "# Comparison Examples\n",
    "\n",
    "num1 = 42\n",
    "num2 = 6\n",
    "\n",
    "print('num1 == num2:', num1 == num2)\n",
    "print('num1 != num2:', num1 != num2)\n",
    "print('num1 > num2:', num1 > num2)\n",
    "print('num1 < num2:', num1 < num2)\n",
    "print('num1 >= num2:', num1 >= num2)\n",
    "print('num1 <= num2:', num1 <= num2)"
   ]
  },
  {
   "cell_type": "markdown",
   "metadata": {},
   "source": [
    "### Logical Operators\n",
    "\n",
    "We use logical operators to combine boolean expressions.\n",
    "\n",
    "```\n",
    "    Keywords:\n",
    "    - and : both the left and the right side of [and] must evaluate to True for the entire statement to be True\n",
    "    - or : either one of or both the left right side of [or] must evaluate to True for the entire statement to be True\n",
    "    - not : turns a True to False, and False to True\n",
    "```\n",
    "\n",
    "The most basic boolean expressions possible are ```True``` and ```False```."
   ]
  },
  {
   "cell_type": "code",
   "execution_count": 7,
   "metadata": {},
   "outputs": [
    {
     "name": "stdout",
     "output_type": "stream",
     "text": [
      "expr1 and expr2: False\n",
      "expr1 or expr2: True\n",
      "not(expr1): False\n",
      "not expr2: True\n"
     ]
    }
   ],
   "source": [
    "# Logical Examples\n",
    "\n",
    "expr1 = True\n",
    "expr2 = False\n",
    "\n",
    "print('expr1 and expr2:', expr1 and expr2)\n",
    "print('expr1 or expr2:', expr1 or expr2)\n",
    "print('not(expr1):', not(expr1))\n",
    "print('not expr2:', not expr2)"
   ]
  },
  {
   "cell_type": "markdown",
   "metadata": {},
   "source": [
    "### Membership Operators\n",
    "\n",
    "Membership operation allow us to check for the exitence of data from an iterable data type.\n",
    "\n",
    "```\n",
    "    Keywords:\n",
    "    - in : Checks if the left operand exists in the right operand\n",
    "    - not in : Checks if the left operand does not exist in the right operand\n",
    "```\n",
    "\n",
    "We will look at some examples with Strings and Lists."
   ]
  },
  {
   "cell_type": "code",
   "execution_count": 9,
   "metadata": {},
   "outputs": [
    {
     "name": "stdout",
     "output_type": "stream",
     "text": [
      "a in hello: False\n",
      "a not in hello: True\n",
      "----\n",
      "ell in hello: True\n",
      "ell not in hello: False\n"
     ]
    }
   ],
   "source": [
    "# Membership Example 1\n",
    "\n",
    "letter1 = 'a'\n",
    "letter2 = 'ell'\n",
    "word = 'hello'\n",
    "\n",
    "print('a in hello:', letter1 in word)\n",
    "print('a not in hello:', letter1 not in word) # equivalent to print('not (a in hello)', not (letter1 in word))\n",
    "print('----')\n",
    "print('ell in hello:', letter2 in word)\n",
    "print('ell not in hello:', letter2 not in word)"
   ]
  },
  {
   "cell_type": "code",
   "execution_count": 10,
   "metadata": {},
   "outputs": [
    {
     "name": "stdout",
     "output_type": "stream",
     "text": [
      "Strawberries in fruits: False\n",
      "kiwis in fruits: True\n"
     ]
    }
   ],
   "source": [
    "# Membership Example 2\n",
    "\n",
    "fruits = ['Oranges', 'Kiwis', 'Apples', 'Watermelons']\n",
    "\n",
    "print('Strawberries in fruits:', 'Strawberries' in fruits)\n",
    "print('kiwis in fruits:', 'Kiwis' in fruits)"
   ]
  },
  {
   "cell_type": "markdown",
   "metadata": {},
   "source": [
    "### Order of Precedence/Operations in Python 3\n",
    "\n",
    "During assignment or boolean expression evaluation, the order of calculation follows:\n",
    "```\n",
    "    1. Anything in Parenthesis ()\n",
    "    2. ** (Exponentiation)\n",
    "    3. *, /, %, // (Multiply, Divide, Modulus, Floor Division)\n",
    "    4. +, - (Addition, Subtraction)\n",
    "    5. <=, <, >, >= (Comparison Operators)\n",
    "    6. ==, != (Equality Operators)\n",
    "    7. =, %=, /=, //=, -=, +=, *=, **=, (Assignment Operators)\n",
    "    8. in, not in (Membership operators)\n",
    "    9. not, or, and (Logical Operators)\n",
    "```"
   ]
  }
 ],
 "metadata": {
  "kernelspec": {
   "display_name": "Python 3",
   "language": "python",
   "name": "python3"
  },
  "language_info": {
   "codemirror_mode": {
    "name": "ipython",
    "version": 3
   },
   "file_extension": ".py",
   "mimetype": "text/x-python",
   "name": "python",
   "nbconvert_exporter": "python",
   "pygments_lexer": "ipython3",
   "version": "3.8.2"
  }
 },
 "nbformat": 4,
 "nbformat_minor": 4
}
