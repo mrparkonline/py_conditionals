{
 "cells": [
  {
   "cell_type": "markdown",
   "metadata": {},
   "source": [
    "# Binary Conditions\n",
    "---\n",
    "\n",
    "By adding in a new keyword, we can have two possible flow to our program.\n",
    "\n",
    "### ```if``` and ```else``` statements\n",
    "\n",
    "Examine the following format below:\n",
    "```python\n",
    "\n",
    "if (boolean condition):\n",
    "    # if's code block\n",
    "    \n",
    "    code here\n",
    "else:\n",
    "    # else's code block\n",
    "\n",
    "# end of the conditionals\n",
    "\n",
    "code continues here\n",
    "```\n",
    "\n",
    "- The if's code block only execute if its boolean condition is True\n",
    "- The else's code block will execute only when the if's boolean condition is False\n",
    "- This helps us create two pathways in our code"
   ]
  },
  {
   "cell_type": "code",
   "execution_count": 1,
   "metadata": {},
   "outputs": [
    {
     "name": "stdout",
     "output_type": "stream",
     "text": [
      "100\n"
     ]
    }
   ],
   "source": [
    "# Code Example 1\n",
    "\n",
    "num = 100\n",
    "\n",
    "if num < 0 and num > 100:\n",
    "    print(num, 'is invalid.')\n",
    "else:\n",
    "    print(num)\n",
    "    \n",
    "# since the if statement's condition is False we get to execute just the print(num) statement"
   ]
  },
  {
   "cell_type": "code",
   "execution_count": 3,
   "metadata": {},
   "outputs": [
    {
     "name": "stdout",
     "output_type": "stream",
     "text": [
      "The letter o exists.\n"
     ]
    }
   ],
   "source": [
    "# Code Example 2\n",
    "\n",
    "word = 'hello world!'\n",
    "\n",
    "if 'o' in word:\n",
    "    print('The letter o exists.')\n",
    "else:\n",
    "    print('The letter o does not exist.')\n",
    "    \n",
    "# examine that the print statement inside the else statement does not execute."
   ]
  }
 ],
 "metadata": {
  "kernelspec": {
   "display_name": "Python 3",
   "language": "python",
   "name": "python3"
  },
  "language_info": {
   "codemirror_mode": {
    "name": "ipython",
    "version": 3
   },
   "file_extension": ".py",
   "mimetype": "text/x-python",
   "name": "python",
   "nbconvert_exporter": "python",
   "pygments_lexer": "ipython3",
   "version": "3.8.2"
  }
 },
 "nbformat": 4,
 "nbformat_minor": 4
}
