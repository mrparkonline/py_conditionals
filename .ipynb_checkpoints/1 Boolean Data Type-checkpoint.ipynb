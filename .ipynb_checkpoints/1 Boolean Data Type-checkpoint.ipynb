{
 "cells": [
  {
   "cell_type": "markdown",
   "metadata": {},
   "source": [
    "# Boolean Data Type\n",
    "---\n",
    "\n",
    "Boolean is named after Mathematician [George Boole](https://en.wikipedia.org/wiki/George_Boole). \n",
    "\n",
    "The Boolean data type allow us to implement logic in our code by simplifying statements to be either True or False.\n",
    "\n",
    "### Boolean in Python 3\n",
    "\n",
    "There are two Boolean data-typed possible values in Python.\n",
    "- ```True```\n",
    "- ```False```\n",
    "\n",
    "__Usage:__\n",
    "- Boolean is a built-in data type much like: integer, floating points, strings and lists.\n",
    "- We can set variables with Boolean values\n",
    "- We can get them as a result from Comparison, Logical, and Membership operations\n",
    "- Certain functions and methods will result in a Boolean value as well\n",
    "\n",
    "### Truthy and Falsy Values in Python 3\n",
    "\n",
    "In programming (Python), certain values can be also True or False in Conditional Situations. We call these __Truthy__ or __Falsy values__.\n",
    "\n",
    "The rules are as follows:\n",
    "- Idea of Emptiness is ```False``` → Keyword: ```None``` is ```False```\n",
    "- Therefore, ```0, '', \"\" , []``` are all empty → False\n",
    "- 1 represents “ON” in binary → ```True```; 0 → ```False```\n",
    "- Lastly, __ANY NON-FALSY__ values are True\n",
    "\n",
    "### Type Conversion Function: ```bool()```\n",
    "\n",
    "The built-in function to convert one data value to Boolean is: ```bool()```"
   ]
  },
  {
   "cell_type": "code",
   "execution_count": 3,
   "metadata": {},
   "outputs": [
    {
     "name": "stdout",
     "output_type": "stream",
     "text": [
      "bool(''): False\n",
      "bool(\"Hello\"): True\n",
      "bool([]): False\n",
      "bool(1): True\n",
      "bool(0): False\n"
     ]
    }
   ],
   "source": [
    "# Example\n",
    "\n",
    "print('bool(\\'\\'):', bool('')) # Empty String\n",
    "print('bool(\"Hello\"):', bool(\"Hello\")) # Non-Empty String\n",
    "print('bool([]):', bool([]))\n",
    "print('bool(1):', bool(1))\n",
    "print('bool(0):', bool(0))"
   ]
  }
 ],
 "metadata": {
  "kernelspec": {
   "display_name": "Python 3",
   "language": "python",
   "name": "python3"
  },
  "language_info": {
   "codemirror_mode": {
    "name": "ipython",
    "version": 3
   },
   "file_extension": ".py",
   "mimetype": "text/x-python",
   "name": "python",
   "nbconvert_exporter": "python",
   "pygments_lexer": "ipython3",
   "version": "3.8.2"
  }
 },
 "nbformat": 4,
 "nbformat_minor": 4
}
