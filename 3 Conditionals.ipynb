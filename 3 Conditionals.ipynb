{
 "cells": [
  {
   "cell_type": "markdown",
   "metadata": {},
   "source": [
    "# Conditional: If Statements\n",
    "---\n",
    "\n",
    "__Conditionals:__ Features of programming language that allows different computations to occur based on decision making.\n",
    "- Conditionals are dependent on Boolean expressions that are evaluated to __True__ or __False__.\n",
    "- Different texts will define conditionals to be statements, expressions, or constructs.\n",
    "- The use of conditionals is the way to control the _flow_ of a program.\n",
    "\n",
    "### ```if``` statement\n",
    "\n",
    "- ```if``` is a built-in keyword in Python that allows us to write conditional statements.\n",
    "- if statements will only execute their own _block_ of code if its boolean condition evaluates to __True__.\n",
    "- if the boolean condition doesn't evaluate to True, the program will skip its _block_ of code\n",
    "- Block of code or __Code Block__ in python are started by a (:) colon and indentation. (Examine the example below)\n",
    "\n",
    "```python\n",
    "\n",
    "# if statement formatting template\n",
    "\n",
    "if (boolean_expression_here): # notice the colon to start the if's code block\n",
    "    # single indentation\n",
    "    \n",
    "    code written here\n",
    "# end of the if statement\n",
    "\n",
    "code written here ... outside of the if statement\n",
    "```"
   ]
  },
  {
   "cell_type": "code",
   "execution_count": 2,
   "metadata": {},
   "outputs": [
    {
     "name": "stdout",
     "output_type": "stream",
     "text": [
      "34 is in between 10 and 42\n"
     ]
    }
   ],
   "source": [
    "# Code Example 1\n",
    "num1 = 10\n",
    "num2 = 42\n",
    "target = 34\n",
    "\n",
    "if target >= num1 and target <= num2:\n",
    "    print(target, 'is in between', num1, 'and', num2)"
   ]
  },
  {
   "cell_type": "code",
   "execution_count": 3,
   "metadata": {},
   "outputs": [
    {
     "name": "stdout",
     "output_type": "stream",
     "text": [
      "Hello\n"
     ]
    }
   ],
   "source": [
    "# Code Example 2\n",
    "word = 'Hello'\n",
    "\n",
    "if len(word) >= 6:\n",
    "    print(word, 'is too long.')\n",
    "    \n",
    "print(word)\n",
    "\n",
    "# Notice that the message 'Hello is too long' is not outputted.\n",
    "# This is because len(word) is less than 6 hence len(word) >= 6 is False"
   ]
  }
 ],
 "metadata": {
  "kernelspec": {
   "display_name": "Python 3",
   "language": "python",
   "name": "python3"
  },
  "language_info": {
   "codemirror_mode": {
    "name": "ipython",
    "version": 3
   },
   "file_extension": ".py",
   "mimetype": "text/x-python",
   "name": "python",
   "nbconvert_exporter": "python",
   "pygments_lexer": "ipython3",
   "version": "3.8.2"
  }
 },
 "nbformat": 4,
 "nbformat_minor": 4
}
