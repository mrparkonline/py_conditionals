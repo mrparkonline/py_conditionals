{
 "cells": [
  {
   "cell_type": "markdown",
   "metadata": {},
   "source": [
    "# Nested Conditional Statements\n",
    "---\n",
    "\n",
    "Nesting is the act of placing programming statements inside another. We can nest if statements to create complex decision trees in our program.\n",
    "\n",
    "### ```if``` statements within our ```if``` statements\n",
    "\n",
    "Examine the following format below:\n",
    "\n",
    "```python\n",
    "\n",
    "    if boolean_condition1:\n",
    "        # code here\n",
    "        \n",
    "        if boolean_conditionA:\n",
    "            # code here\n",
    "        else:\n",
    "            # code here\n",
    "            \n",
    "    elif boolean_condition2:\n",
    "        # code here\n",
    "        \n",
    "        if boolean_conditionB:\n",
    "            # code here\n",
    "        elif boolean_conditionC:\n",
    "            # code here\n",
    "    else:\n",
    "        # code here\n",
    "        if boolean_conditionD:\n",
    "            # code here\n",
    "```\n",
    "\n",
    "This type of conditional statements are called __nested__ conditional statements.\n",
    "- When a certain condition is True, we can check upon more conditions for the program\n",
    "- This is only required when the complexity of the condition increases depending on the given problem\n",
    "\n",
    "### Nested vs Logical Operator\n",
    "\n",
    "The following two python conditional formats are equivalent.\n",
    "\n",
    "```python\n",
    "\n",
    "    if conditionA:\n",
    "        if conditionB:\n",
    "            # execute Code here\n",
    "            print('Hello, World')\n",
    "```\n",
    "        vs.\n",
    "```python\n",
    "\n",
    "    if conditionA and conditionB:\n",
    "        # execute Code here\n",
    "        print('Hello, World')\n",
    "    \n",
    "```"
   ]
  },
  {
   "cell_type": "code",
   "execution_count": 3,
   "metadata": {},
   "outputs": [
    {
     "name": "stdout",
     "output_type": "stream",
     "text": [
      "Your entrance scholarship is: $2000\n"
     ]
    }
   ],
   "source": [
    "# Code Example\n",
    "# Scholarship Checker based on Average Mark\n",
    "\n",
    "mark_average = 92\n",
    "\n",
    "if mark_average >= 90:\n",
    "    if mark_average < 95:\n",
    "        print('Your entrance scholarship is: $2000')\n",
    "    elif mark_average <= 100:\n",
    "        print('Your entrance scholarship is: $4000')\n",
    "else:\n",
    "    print('You are not elligible for an entrance scholarship.')"
   ]
  }
 ],
 "metadata": {
  "kernelspec": {
   "display_name": "Python 3",
   "language": "python",
   "name": "python3"
  },
  "language_info": {
   "codemirror_mode": {
    "name": "ipython",
    "version": 3
   },
   "file_extension": ".py",
   "mimetype": "text/x-python",
   "name": "python",
   "nbconvert_exporter": "python",
   "pygments_lexer": "ipython3",
   "version": "3.8.2"
  }
 },
 "nbformat": 4,
 "nbformat_minor": 4
}
